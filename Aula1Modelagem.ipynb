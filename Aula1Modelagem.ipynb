{
 "cells": [
  {
   "cell_type": "code",
   "execution_count": 33,
   "metadata": {},
   "outputs": [
    {
     "name": "stdout",
     "output_type": "stream",
     "text": [
      "The population of 381.400000 will be reached in 2089.\n"
     ]
    }
   ],
   "source": [
    "from scipy import stats\n",
    "from scipy.optimize import fsolve\n",
    "\n",
    "# Exercise: find when the population of Brazil will double for now, based o this data:\n",
    "years = list(range(1950, 2011, 10))\n",
    "population = [51.9, 70, 93.1, 119, 146.8, 169.8, 190.7]\n",
    "\n",
    "# Assuming double the last population count (2010).\n",
    "DESIRED_POP = population[-1]*2\n",
    "\n",
    "# Do some regression\n",
    "rgr = stats.linregress(years,population)\n",
    "\n",
    "# Simple linear equation to get the population by year\n",
    "def EstimatePopulation(x):\n",
    "    '''\n",
    "    Uses the linear regression to estimate the population by year(x).\n",
    "    '''\n",
    "    return x*rgr.slope + rgr.intercept\n",
    "\n",
    "# Simple linear equation to get the year by population\n",
    "def EstimateYear(x):\n",
    "    '''\n",
    "    Estimate the year to reach the input population.\n",
    "    '''\n",
    "    return (x - rgr.intercept) / rgr.slope\n",
    "\n",
    "# The first assumption is simple, i only estimate the population using the linear curve that i took from the data:\n",
    "print('The population of %f will be reached in %d.' % (DESIRED_POP, EstimateYear(DESIRED_POP)))"
   ]
  },
  {
   "cell_type": "code",
   "execution_count": 55,
   "metadata": {},
   "outputs": [
    {
     "name": "stdout",
     "output_type": "stream",
     "text": [
      "The population of 381.400000 will be reached in 2089.\n"
     ]
    }
   ],
   "source": [
    "# Now, i must assume some maximum load on the system.\n",
    "SYS_LOAD = population[-1]*4\n",
    "\n",
    "def EstimateYearWithLoad(year):\n",
    "    '''\n",
    "    Estimates the population for a year based on the maximum load of people on the country.\n",
    "    '''\n",
    "    pop = EstimatePopulation(year)\n",
    "    return pop*(1-pop/SYS_LOAD)\n",
    "\n",
    "# The solver will search for zero.\n",
    "def f(x):\n",
    "    return DESIRED_POP - EstimatePopulation(x)\n",
    "\n",
    "# Finds the year where this populatio should de breached.\n",
    "result_year = fsolve(f, 2030)[-1]\n",
    "print('The population of %f will be reached in %d.' % (DESIRED_POP, result_year))"
   ]
  },
  {
   "cell_type": "code",
   "execution_count": 64,
   "metadata": {},
   "outputs": [
    {
     "data": {
      "text/plain": [
       "[<matplotlib.lines.Line2D at 0x7f9928dabb00>]"
      ]
     },
     "execution_count": 64,
     "metadata": {},
     "output_type": "execute_result"
    },
    {
     "data": {
      "image/png": "[encoded data removed]",
      "text/plain": [
       "<Figure size 432x288 with 1 Axes>"
      ]
     },
     "metadata": {},
     "output_type": "display_data"
    }
   ],
   "source": [
    "import numpy as np\n",
    "import matplotlib.pyplot as plt\n",
    "import seaborn\n",
    "\n",
    "cur1 = np.array(range(2010, int(result_year), 1))\n",
    "\n",
    "plt.plot(cur1, EstimateYearWithLoad(cur1), 'Load model')\n",
    "plt.plot(cur1, EstimatePopulation(cur1), 'Linear model')\n",
    "plt.legend(handles=[red_patch])\n",
    "plt.show"
   ]
  }
 ],
 "metadata": {
  "kernelspec": {
   "display_name": "Python 3",
   "language": "python",
   "name": "python3"
  },
  "language_info": {
   "codemirror_mode": {
    "name": "ipython",
    "version": 3
   },
   "file_extension": ".py",
   "mimetype": "text/x-python",
   "name": "python",
   "nbconvert_exporter": "python",
   "pygments_lexer": "ipython3",
   "version": "3.6.4"
  }
 },
 "nbformat": 4,
 "nbformat_minor": 2
}
